{
 "cells": [
  {
   "cell_type": "markdown",
   "metadata": {},
   "source": [
    "# Direct Lambert Optimizer\n",
    "2020/01/23"
   ]
  },
  {
   "cell_type": "code",
   "execution_count": 3,
   "metadata": {},
   "outputs": [],
   "source": [
    "import lambert as lb\n",
    "import spiceypy as spice"
   ]
  },
  {
   "cell_type": "code",
   "execution_count": null,
   "metadata": {},
   "outputs": [],
   "source": [
    "def lambert_spice(dep_spiceID, arr_spiceID, mu, epoch_dep, tof, grade='pro'):\n",
    "    \"\"\"function solves Lambert problem between two points in space given by SPICE data\n",
    "    For NAIF Integer ID codes refer to:\n",
    "    https://naif.jpl.nasa.gov/pub/naif/toolkit_docs/FORTRAN/req/naif_ids.html\n",
    "    Args:\n",
    "        dep_spiceID (int): departure body NAIF ID\n",
    "        arr_spiceID (int): arrival body NAIF ID\n",
    "        mu (float): gravitational parameter\n",
    "        epoch_dep (float): time of departure in ephemeris seconds after J2000\n",
    "        tof (float): time of flight in ephemeris seconds after J2000\n",
    "        grade (str): 'pro' for prograde or 'retro' for retrograde ('pro' by default)\n",
    "    Return:\n",
    "        (dict): \n",
    "    \"\"\"\n",
    "    # extract state-vector of departure\n",
    "    dep_sv = spice.spkssb(dep_spiceID,epoch_dep,'J2000')\n",
    "    # define arrival epoch\n",
    "    epoch_arr = epoch_dep + tof\n",
    "    # extract state-vector at arrival\n",
    "    arr_sv = spice.spkssb(dep_spiceID,epoch_arr,'J2000')\n",
    "    \n",
    "    # separate state-vectors to position and velocity for handling\n",
    "    \n",
    "    vdep, varr = lb.lambert(mu=mu, r1=dep_r00, r2=arr_r00, tof=tof, grade='pro')\n",
    "    \n",
    "    \n",
    "    "
   ]
  },
  {
   "cell_type": "code",
   "execution_count": 5,
   "metadata": {},
   "outputs": [],
   "source": [
    "# import spice kernel of leap seconds and trajectory\n",
    "spice.furnsh(r'C:\\Users\\yurio\\Documents\\spice\\naif0012.tls')\n",
    "spice.furnsh(r'C:\\Users\\yurio\\Documents\\spice\\de430.bsp')\n"
   ]
  },
  {
   "cell_type": "code",
   "execution_count": 4,
   "metadata": {},
   "outputs": [],
   "source": [
    "# run lambert over given launch window with variable tof\n",
    "def lambert_opt(tof_range):\n",
    "    \"\"\"function finds optimal departure & arrival time that minimizes delta V\n",
    "    Args:\n",
    "        vdep (float):\n",
    "        varr\n",
    "    Returns:\n",
    "    \"\"\"\n",
    "    \n",
    "    "
   ]
  }
 ],
 "metadata": {
  "kernelspec": {
   "display_name": "Python 3",
   "language": "python",
   "name": "python3"
  },
  "language_info": {
   "codemirror_mode": {
    "name": "ipython",
    "version": 3
   },
   "file_extension": ".py",
   "mimetype": "text/x-python",
   "name": "python",
   "nbconvert_exporter": "python",
   "pygments_lexer": "ipython3",
   "version": "3.7.3"
  }
 },
 "nbformat": 4,
 "nbformat_minor": 2
}
